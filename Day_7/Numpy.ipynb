{
 "cells": [
  {
   "cell_type": "code",
   "execution_count": 1,
   "id": "bc0fdfa2-32b2-4066-b448-1b2a8add6a20",
   "metadata": {},
   "outputs": [
    {
     "name": "stdout",
     "output_type": "stream",
     "text": [
      "Requirement already satisfied: numpy in c:\\users\\priya\\anaconda3\\lib\\site-packages (1.21.5)\n"
     ]
    }
   ],
   "source": [
    "!pip install numpy\n"
   ]
  },
  {
   "cell_type": "code",
   "execution_count": 2,
   "id": "a9a0a01e-bcc5-467a-a23f-a060880d0ddc",
   "metadata": {},
   "outputs": [],
   "source": [
    "import numpy as np"
   ]
  },
  {
   "cell_type": "code",
   "execution_count": 3,
   "id": "626db203-b929-4221-906f-0af484ecd1ea",
   "metadata": {},
   "outputs": [
    {
     "name": "stderr",
     "output_type": "stream",
     "text": [
      "<>:3: SyntaxWarning: list indices must be integers or slices, not tuple; perhaps you missed a comma?\n",
      "<>:3: SyntaxWarning: list indices must be integers or slices, not tuple; perhaps you missed a comma?\n",
      "C:\\Users\\priya\\AppData\\Local\\Temp\\ipykernel_10092\\3771142878.py:3: SyntaxWarning: list indices must be integers or slices, not tuple; perhaps you missed a comma?\n",
      "  c = np.array([[12,1,5,21,5][565,56,565,32,8,5]])\n",
      "C:\\Users\\priya\\AppData\\Local\\Temp\\ipykernel_10092\\3771142878.py:3: SyntaxWarning: list indices must be integers or slices, not tuple; perhaps you missed a comma?\n",
      "  c = np.array([[12,1,5,21,5][565,56,565,32,8,5]])\n",
      "C:\\Users\\priya\\AppData\\Local\\Temp\\ipykernel_10092\\3771142878.py:3: SyntaxWarning: list indices must be integers or slices, not tuple; perhaps you missed a comma?\n",
      "  c = np.array([[12,1,5,21,5][565,56,565,32,8,5]])\n"
     ]
    },
    {
     "ename": "TypeError",
     "evalue": "list indices must be integers or slices, not tuple",
     "output_type": "error",
     "traceback": [
      "\u001b[1;31m---------------------------------------------------------------------------\u001b[0m",
      "\u001b[1;31mTypeError\u001b[0m                                 Traceback (most recent call last)",
      "Input \u001b[1;32mIn [3]\u001b[0m, in \u001b[0;36m<cell line: 3>\u001b[1;34m()\u001b[0m\n\u001b[0;32m      1\u001b[0m a \u001b[38;5;241m=\u001b[39m np\u001b[38;5;241m.\u001b[39marray([])\n\u001b[0;32m      2\u001b[0m b \u001b[38;5;241m=\u001b[39m np\u001b[38;5;241m.\u001b[39marray([\u001b[38;5;241m1\u001b[39m,\u001b[38;5;241m2\u001b[39m,\u001b[38;5;241m3\u001b[39m,\u001b[38;5;241m4\u001b[39m,\u001b[38;5;241m5.0\u001b[39m])\n\u001b[1;32m----> 3\u001b[0m c \u001b[38;5;241m=\u001b[39m np\u001b[38;5;241m.\u001b[39marray([\u001b[43m[\u001b[49m\u001b[38;5;241;43m12\u001b[39;49m\u001b[43m,\u001b[49m\u001b[38;5;241;43m1\u001b[39;49m\u001b[43m,\u001b[49m\u001b[38;5;241;43m5\u001b[39;49m\u001b[43m,\u001b[49m\u001b[38;5;241;43m21\u001b[39;49m\u001b[43m,\u001b[49m\u001b[38;5;241;43m5\u001b[39;49m\u001b[43m]\u001b[49m\u001b[43m[\u001b[49m\u001b[38;5;241;43m565\u001b[39;49m\u001b[43m,\u001b[49m\u001b[38;5;241;43m56\u001b[39;49m\u001b[43m,\u001b[49m\u001b[38;5;241;43m565\u001b[39;49m\u001b[43m,\u001b[49m\u001b[38;5;241;43m32\u001b[39;49m\u001b[43m,\u001b[49m\u001b[38;5;241;43m8\u001b[39;49m\u001b[43m,\u001b[49m\u001b[38;5;241;43m5\u001b[39;49m\u001b[43m]\u001b[49m])\n",
      "\u001b[1;31mTypeError\u001b[0m: list indices must be integers or slices, not tuple"
     ]
    }
   ],
   "source": [
    "a = np.array([])\n",
    "b = np.array([1,2,3,4,5.0])\n",
    "c = np.array([[12,1,5,21,5][565,56,565,32,8,5]])"
   ]
  },
  {
   "cell_type": "code",
   "execution_count": 4,
   "id": "df63cf69-9fd4-4366-8cbc-4369c7896f69",
   "metadata": {},
   "outputs": [
    {
     "name": "stderr",
     "output_type": "stream",
     "text": [
      "C:\\Users\\priya\\AppData\\Local\\Temp\\ipykernel_10092\\332395821.py:3: VisibleDeprecationWarning: Creating an ndarray from ragged nested sequences (which is a list-or-tuple of lists-or-tuples-or ndarrays with different lengths or shapes) is deprecated. If you meant to do this, you must specify 'dtype=object' when creating the ndarray.\n",
      "  c = np.array([[12,1,5,21,5],[565,56,565,32,8,5]])\n"
     ]
    }
   ],
   "source": [
    "a = np.array([])\n",
    "b = np.array([1,2,3,4,5.0])\n",
    "c = np.array([[12,1,5,21,5],[56,56,56,32,8,5]])"
   ]
  },
  {
   "cell_type": "code",
   "execution_count": 5,
   "id": "ca2d2fcd-ac3a-42d9-8c54-a67299a3b8fa",
   "metadata": {},
   "outputs": [
    {
     "name": "stderr",
     "output_type": "stream",
     "text": [
      "C:\\Users\\priya\\AppData\\Local\\Temp\\ipykernel_10092\\3627551217.py:3: VisibleDeprecationWarning: Creating an ndarray from ragged nested sequences (which is a list-or-tuple of lists-or-tuples-or ndarrays with different lengths or shapes) is deprecated. If you meant to do this, you must specify 'dtype=object' when creating the ndarray.\n",
      "  c = np.array ( [[12,1,5,21,5],[56,56,56,32,8,5]])\n"
     ]
    }
   ],
   "source": [
    "a = np.array([])\n",
    "b = np.array([1,2,3,4,5.0])\n",
    "c = np.array ( [[12,1,5,21,5],[56,56,56,32,8,5]])"
   ]
  },
  {
   "cell_type": "code",
   "execution_count": 6,
   "id": "3bb98ac2-e7a1-43fc-8714-b06cfc3bbed2",
   "metadata": {},
   "outputs": [
    {
     "data": {
      "text/plain": [
       "numpy.ndarray"
      ]
     },
     "execution_count": 6,
     "metadata": {},
     "output_type": "execute_result"
    }
   ],
   "source": [
    "type(c)\n"
   ]
  },
  {
   "cell_type": "code",
   "execution_count": 7,
   "id": "b8d0ca65-1c73-4b46-a737-9677253721a0",
   "metadata": {},
   "outputs": [],
   "source": [
    "a = np.array([])\n",
    "b = np.array([1,2,3,4,5.0])\n",
    "c = np.array ( [[12,1,5,21,5],[56,56,56,32,5]])"
   ]
  },
  {
   "cell_type": "code",
   "execution_count": 8,
   "id": "1e4e158f-bc81-47e6-bc86-e01f38576cd6",
   "metadata": {},
   "outputs": [
    {
     "ename": "AttributeError",
     "evalue": "'numpy.ndarray' object has no attribute 'ndin'",
     "output_type": "error",
     "traceback": [
      "\u001b[1;31m---------------------------------------------------------------------------\u001b[0m",
      "\u001b[1;31mAttributeError\u001b[0m                            Traceback (most recent call last)",
      "Input \u001b[1;32mIn [8]\u001b[0m, in \u001b[0;36m<cell line: 1>\u001b[1;34m()\u001b[0m\n\u001b[1;32m----> 1\u001b[0m \u001b[43ma\u001b[49m\u001b[38;5;241;43m.\u001b[39;49m\u001b[43mndin\u001b[49m\n",
      "\u001b[1;31mAttributeError\u001b[0m: 'numpy.ndarray' object has no attribute 'ndin'"
     ]
    }
   ],
   "source": [
    "a.ndin"
   ]
  },
  {
   "cell_type": "code",
   "execution_count": 9,
   "id": "93837559-1d1d-40cd-8030-8f1e51ba9a71",
   "metadata": {},
   "outputs": [
    {
     "data": {
      "text/plain": [
       "1"
      ]
     },
     "execution_count": 9,
     "metadata": {},
     "output_type": "execute_result"
    }
   ],
   "source": [
    "a.ndim\n"
   ]
  },
  {
   "cell_type": "code",
   "execution_count": 10,
   "id": "4eacc111-2f58-4f13-8d94-f51f14464550",
   "metadata": {},
   "outputs": [
    {
     "data": {
      "text/plain": [
       "array([[12,  1,  5, 21,  5],\n",
       "       [56, 56, 56, 32,  5]])"
      ]
     },
     "execution_count": 10,
     "metadata": {},
     "output_type": "execute_result"
    }
   ],
   "source": [
    "c"
   ]
  },
  {
   "cell_type": "code",
   "execution_count": 11,
   "id": "48947281-d3bb-4e90-8533-30e8d6ab3aec",
   "metadata": {},
   "outputs": [
    {
     "data": {
      "text/plain": [
       "2"
      ]
     },
     "execution_count": 11,
     "metadata": {},
     "output_type": "execute_result"
    }
   ],
   "source": [
    "c.ndim"
   ]
  },
  {
   "cell_type": "code",
   "execution_count": 12,
   "id": "102dc6bc-a692-482e-a00b-69b78a1aafbb",
   "metadata": {},
   "outputs": [
    {
     "data": {
      "text/plain": [
       "0"
      ]
     },
     "execution_count": 12,
     "metadata": {},
     "output_type": "execute_result"
    }
   ],
   "source": [
    "a.size"
   ]
  },
  {
   "cell_type": "code",
   "execution_count": 13,
   "id": "f3e8de7c-90a6-4a76-858f-f7e0fa0a6064",
   "metadata": {},
   "outputs": [
    {
     "data": {
      "text/plain": [
       "5"
      ]
     },
     "execution_count": 13,
     "metadata": {},
     "output_type": "execute_result"
    }
   ],
   "source": [
    "b.size"
   ]
  },
  {
   "cell_type": "code",
   "execution_count": 14,
   "id": "1de1bb14-cd7a-4590-b248-3ef0440e4d6b",
   "metadata": {},
   "outputs": [
    {
     "data": {
      "text/plain": [
       "10"
      ]
     },
     "execution_count": 14,
     "metadata": {},
     "output_type": "execute_result"
    }
   ],
   "source": [
    "c.size"
   ]
  },
  {
   "cell_type": "code",
   "execution_count": 15,
   "id": "13675712-d06d-451d-8572-573fd1b58dc6",
   "metadata": {},
   "outputs": [
    {
     "data": {
      "text/plain": [
       "numpy.ndarray"
      ]
     },
     "execution_count": 15,
     "metadata": {},
     "output_type": "execute_result"
    }
   ],
   "source": [
    "type(c)"
   ]
  },
  {
   "cell_type": "code",
   "execution_count": 16,
   "id": "8c5f1752-01fc-4650-96ea-d9a48427a52c",
   "metadata": {},
   "outputs": [
    {
     "data": {
      "text/plain": [
       "(2, 5)"
      ]
     },
     "execution_count": 16,
     "metadata": {},
     "output_type": "execute_result"
    }
   ],
   "source": [
    "c.shape"
   ]
  },
  {
   "cell_type": "code",
   "execution_count": null,
   "id": "08f5dd48-66f8-45e0-a5f0-b82ac600c06e",
   "metadata": {},
   "outputs": [],
   "source": [
    "n = np.array[  [ 2,3,4,5        ]     , [  20,45,24,26,27      ]          ,      [   200,500,450,440,860         ]               ]"
   ]
  }
 ],
 "metadata": {
  "kernelspec": {
   "display_name": "Python 3 (ipykernel)",
   "language": "python",
   "name": "python3"
  },
  "language_info": {
   "codemirror_mode": {
    "name": "ipython",
    "version": 3
   },
   "file_extension": ".py",
   "mimetype": "text/x-python",
   "name": "python",
   "nbconvert_exporter": "python",
   "pygments_lexer": "ipython3",
   "version": "3.9.12"
  }
 },
 "nbformat": 4,
 "nbformat_minor": 5
}
